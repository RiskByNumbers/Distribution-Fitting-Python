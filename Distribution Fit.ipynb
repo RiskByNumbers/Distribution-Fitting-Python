{
 "cells": [
  {
   "cell_type": "code",
   "execution_count": null,
   "id": "9d952977-5ff2-4301-8b0c-4de89cbdf844",
   "metadata": {
    "tags": []
   },
   "outputs": [],
   "source": [
    "#Step 1: (1) import pandas; (2) read csv file as dataframe; (3) print dataframe to view data\n",
    "import pandas as pd\n",
    "df = pd.read_csv('sample.csv')\n",
    "print(df)"
   ]
  },
  {
   "cell_type": "code",
   "execution_count": null,
   "id": "2c2d944d-7d86-4f0f-b68b-7814ee75c910",
   "metadata": {
    "tags": []
   },
   "outputs": [],
   "source": [
    "#assign the column 'Value' from the dataframe to the variable 'data'\n",
    "data = df['Value']"
   ]
  },
  {
   "cell_type": "code",
   "execution_count": null,
   "id": "5facd602-406b-4a35-aebb-51dd0d68719e",
   "metadata": {
    "tags": []
   },
   "outputs": [],
   "source": [
    "#Step 2: (1) import matplotlib; (2) create a new figure; (3) make a histogram with 'density = True' to return as a probability density; and (4) show plot\n",
    "import matplotlib.pyplot as plt\n",
    "plt.figure()\n",
    "plt.hist(data, density = True)\n",
    "plt.show()"
   ]
  },
  {
   "cell_type": "code",
   "execution_count": null,
   "id": "f763fdfd-90a2-45bf-a5a9-54ea8585efc2",
   "metadata": {
    "tags": []
   },
   "outputs": [],
   "source": [
    "#Step 3: (1) import SciPy statistical functions; (2) fit to a normal distribution with parameters stored in variable 'normfit'; and (3) print 'normfit'\n",
    "\n",
    "import scipy.stats as ss\n",
    "normfit = ss.norm.fit(data)\n",
    "print(normfit)"
   ]
  },
  {
   "cell_type": "code",
   "execution_count": null,
   "id": "6f7855a8-8617-4284-86e4-f0704eeba617",
   "metadata": {},
   "outputs": [],
   "source": [
    "#Step 4: Similar to the earlier cell, but now I've added:\n",
    "    #(1) a variable, 'datasort', which sorts the variable 'data' via the function 'sort_values'; and \n",
    "    #(2) a line plot with the 'x' values being the variable 'datasort' and the y-values being their probability densities for each outcome using the parameters from 'normfit' computed earlier.\n",
    "\n",
    "datasort = data.sort_values()\n",
    "plt.figure()\n",
    "plt.hist(data, density = True)\n",
    "plt.plot(datasort, ss.norm.pdf(datasort, *normfit))\n",
    "plt.show()"
   ]
  }
 ],
 "metadata": {
  "kernelspec": {
   "display_name": "Python 3 (ipykernel)",
   "language": "python",
   "name": "python3"
  },
  "language_info": {
   "codemirror_mode": {
    "name": "ipython",
    "version": 3
   },
   "file_extension": ".py",
   "mimetype": "text/x-python",
   "name": "python",
   "nbconvert_exporter": "python",
   "pygments_lexer": "ipython3",
   "version": "3.8.16"
  }
 },
 "nbformat": 4,
 "nbformat_minor": 5
}
